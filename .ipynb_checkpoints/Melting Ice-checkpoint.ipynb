{
 "cells": [
  {
   "cell_type": "markdown",
   "metadata": {},
   "source": [
    "# Modeling and Simulation in Python\n",
    "\n",
    "Project 2\n",
    "\n",
    "Maalvika Bhat & Richard Gao"
   ]
  },
  {
   "cell_type": "code",
   "execution_count": 14,
   "metadata": {},
   "outputs": [],
   "source": [
    "# Configure Jupyter so figures appear in the notebook\n",
    "%matplotlib inline\n",
    "\n",
    "# Configure Jupyter to display the assigned value after an assignment\n",
    "%config InteractiveShell.ast_node_interactivity='last_expr_or_assign'\n",
    "\n",
    "# import functions from the modsim.py module\n",
    "from modsim import *"
   ]
  },
  {
   "cell_type": "code",
   "execution_count": 15,
   "metadata": {},
   "outputs": [],
   "source": [
    "# kilogram = UNITS.kilogram\n",
    "# kelvin = UNITS.kelvin\n",
    "# watt = UNITS.watt\n",
    "# joule = UNITS.joule\n",
    "# degC = UNITS.celsius"
   ]
  },
  {
   "cell_type": "code",
   "execution_count": 16,
   "metadata": {},
   "outputs": [],
   "source": [
    "# m_solid = .05 * kilogram\n",
    "# latent_heat_fusion = 3.3 * 10 ** 5 * joule / kilogram\n",
    "m_solid = .05 \n",
    "latent_heat_fusion = 3.3 * 10 ** 5\n",
    "q = m_solid * latent_heat_fusion;"
   ]
  },
  {
   "cell_type": "code",
   "execution_count": 37,
   "metadata": {},
   "outputs": [],
   "source": [
    "def make_system(params):\n",
    "    \"\"\"Makes a System object with the given parameters.\n",
    "    returns: System object\n",
    "    \"\"\"\n",
    "    thermal_conductivity_factor, specific_heat_capacity, surface_area, plate_temp, thickness = params\n",
    "    \n",
    "    init = State(thermal_energy_plate = q,\n",
    "                 thermal_energy_ice = 0,\n",
    "                 temp_plate=plate_temp)\n",
    "    \n",
    "    t0 = 0\n",
    "    dt = .1\n",
    "    \n",
    "    return System(locals())"
   ]
  },
  {
   "cell_type": "code",
   "execution_count": 38,
   "metadata": {},
   "outputs": [],
   "source": [
    "def update_func(state, dt, system):\n",
    "    unpack(system)\n",
    "    thermal_energy_plate, thermal_energy_ice, temp_plate = state\n",
    "    \n",
    "    deltaQ = (thermal_conductivity_factor * surface_area * temp_plate / thickness) * dt\n",
    "    \n",
    "    temp_plate -= deltaQ / (specific_heat_capacity * 1) # 1 kg of plate\n",
    "    \n",
    "    thermal_energy_plate -= deltaQ\n",
    "    thermal_energy_ice += deltaQ\n",
    "    \n",
    "    return State(thermal_energy_plate=thermal_energy_plate, thermal_energy_ice=thermal_energy_ice, temp_plate=temp_plate)"
   ]
  },
  {
   "cell_type": "code",
   "execution_count": 39,
   "metadata": {},
   "outputs": [],
   "source": [
    "def run_simulation(system, update_func):\n",
    "    unpack(system)\n",
    "    \n",
    "    frame = TimeFrame(columns=init.index)\n",
    "    frame.row[t0] = init\n",
    "    \n",
    "    melted = False\n",
    "    t = 0\n",
    "    while not melted:\n",
    "        new_state = update_func(frame.row[t], dt, system)\n",
    "        if new_state.thermal_energy_plate < 0:\n",
    "            melted = True\n",
    "        else:\n",
    "            t = round(t + dt, 1)\n",
    "            frame.row[t] = new_state\n",
    "#             print(frame.row[t])\n",
    "        \n",
    "    return frame"
   ]
  },
  {
   "cell_type": "code",
   "execution_count": 40,
   "metadata": {},
   "outputs": [
    {
     "data": {
      "text/html": [
       "<div>\n",
       "<style scoped>\n",
       "    .dataframe tbody tr th:only-of-type {\n",
       "        vertical-align: middle;\n",
       "    }\n",
       "\n",
       "    .dataframe tbody tr th {\n",
       "        vertical-align: top;\n",
       "    }\n",
       "\n",
       "    .dataframe thead th {\n",
       "        text-align: right;\n",
       "    }\n",
       "</style>\n",
       "<table border=\"1\" class=\"dataframe\">\n",
       "  <thead>\n",
       "    <tr style=\"text-align: right;\">\n",
       "      <th></th>\n",
       "      <th>thermal_energy_plate</th>\n",
       "      <th>thermal_energy_ice</th>\n",
       "      <th>temp_plate</th>\n",
       "    </tr>\n",
       "  </thead>\n",
       "  <tbody>\n",
       "    <tr>\n",
       "      <th>2.3</th>\n",
       "      <td>1200.632881</td>\n",
       "      <td>15299.367119</td>\n",
       "      <td>5.943849</td>\n",
       "    </tr>\n",
       "    <tr>\n",
       "      <th>2.4</th>\n",
       "      <td>896.010601</td>\n",
       "      <td>15603.989399</td>\n",
       "      <td>5.604248</td>\n",
       "    </tr>\n",
       "    <tr>\n",
       "      <th>2.5</th>\n",
       "      <td>608.792882</td>\n",
       "      <td>15891.207118</td>\n",
       "      <td>5.284050</td>\n",
       "    </tr>\n",
       "    <tr>\n",
       "      <th>2.6</th>\n",
       "      <td>337.985318</td>\n",
       "      <td>16162.014682</td>\n",
       "      <td>4.982146</td>\n",
       "    </tr>\n",
       "    <tr>\n",
       "      <th>2.7</th>\n",
       "      <td>82.650315</td>\n",
       "      <td>16417.349685</td>\n",
       "      <td>4.697492</td>\n",
       "    </tr>\n",
       "  </tbody>\n",
       "</table>\n",
       "</div>"
      ],
      "text/plain": [
       "     thermal_energy_plate  thermal_energy_ice  temp_plate\n",
       "2.3           1200.632881        15299.367119    5.943849\n",
       "2.4            896.010601        15603.989399    5.604248\n",
       "2.5            608.792882        15891.207118    5.284050\n",
       "2.6            337.985318        16162.014682    4.982146\n",
       "2.7             82.650315        16417.349685    4.697492"
      ]
     },
     "execution_count": 40,
     "metadata": {},
     "output_type": "execute_result"
    }
   ],
   "source": [
    "params = Params(thermal_conductivity_factor=205,\n",
    "                specific_heat_capacity=897,\n",
    "                surface_area=.05,\n",
    "                plate_temp=23,\n",
    "                thickness=.02)\n",
    "system = make_system(params)\n",
    "results = run_simulation(system, update_func)\n",
    "results.tail()"
   ]
  },
  {
   "cell_type": "code",
   "execution_count": 41,
   "metadata": {},
   "outputs": [
    {
     "data": {
      "text/plain": [
       "<matplotlib.axes._subplots.AxesSubplot at 0x2f7c0ffd5c0>"
      ]
     },
     "execution_count": 41,
     "metadata": {},
     "output_type": "execute_result"
    },
    {
     "data": {
      "image/png": "[encoded data removed]",
      "text/plain": [
       "<Figure size 432x288 with 1 Axes>"
      ]
     },
     "metadata": {},
     "output_type": "display_data"
    }
   ],
   "source": [
    "results.thermal_energy_plate.plot()\n",
    "results.thermal_energy_ice.plot()"
   ]
  },
  {
   "cell_type": "code",
   "execution_count": null,
   "metadata": {},
   "outputs": [],
   "source": []
  },
  {
   "cell_type": "code",
   "execution_count": null,
   "metadata": {},
   "outputs": [],
   "source": []
  }
 ],
 "metadata": {
  "kernelspec": {
   "display_name": "Python 3",
   "language": "python",
   "name": "python3"
  },
  "language_info": {
   "codemirror_mode": {
    "name": "ipython",
    "version": 3
   },
   "file_extension": ".py",
   "mimetype": "text/x-python",
   "name": "python",
   "nbconvert_exporter": "python",
   "pygments_lexer": "ipython3",
   "version": "3.6.5"
  }
 },
 "nbformat": 4,
 "nbformat_minor": 2
}
