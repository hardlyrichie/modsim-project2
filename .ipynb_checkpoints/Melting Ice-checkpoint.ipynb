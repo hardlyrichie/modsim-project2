{
 "cells": [
  {
   "cell_type": "markdown",
   "metadata": {},
   "source": [
    "# Modeling and Simulation in Python\n",
    "\n",
    "Project 2\n",
    "\n",
    "Maalvika Bhat & Richard Gao"
   ]
  },
  {
   "cell_type": "code",
   "execution_count": 8,
   "metadata": {},
   "outputs": [],
   "source": [
    "# Configure Jupyter so figures appear in the notebook\n",
    "%matplotlib inline\n",
    "\n",
    "# Configure Jupyter to display the assigned value after an assignment\n",
    "%config InteractiveShell.ast_node_interactivity='last_expr_or_assign'\n",
    "\n",
    "# import functions from the modsim.py module\n",
    "from modsim import *"
   ]
  },
  {
   "cell_type": "code",
   "execution_count": 9,
   "metadata": {},
   "outputs": [],
   "source": [
    "# kilogram = UNITS.kilogram\n",
    "# kelvin = UNITS.kelvin\n",
    "# watt = UNITS.watt\n",
    "# joule = UNITS.joule\n",
    "# degC = UNITS.celsius"
   ]
  },
  {
   "cell_type": "code",
   "execution_count": 10,
   "metadata": {},
   "outputs": [],
   "source": [
    "# m_solid = .05 * kilogram\n",
    "# latent_heat_fusion = 3.3 * 10 ** 5 * joule / kilogram\n",
    "m_solid = .05 \n",
    "latent_heat_fusion = 3.3 * 10 ** 5\n",
    "q = m_solid * latent_heat_fusion;"
   ]
  },
  {
   "cell_type": "code",
   "execution_count": 26,
   "metadata": {},
   "outputs": [],
   "source": [
    "def make_system(params):\n",
    "    \"\"\"Makes a System object with the given parameters.\n",
    "    returns: System object\n",
    "    \"\"\"\n",
    "    thermal_conductivity_factor, specific_heat_capacity, surface_area, plate_temp, thickness = params\n",
    "    \n",
    "    init = State(thermal_energy_plate = q,\n",
    "                 thermal_energy_ice = 0,\n",
    "                 plate_temp=plate_temp)\n",
    "    \n",
    "    t0 = 0\n",
    "    dt = .1\n",
    "    \n",
    "    return System(locals())"
   ]
  },
  {
   "cell_type": "code",
   "execution_count": 27,
   "metadata": {},
   "outputs": [],
   "source": [
    "def update_func(state, dt, system):\n",
    "    unpack(system)\n",
    "    thermal_energy_plate, thermal_energy_ice, plate_temp = state\n",
    "    \n",
    "    deltaQ = (thermal_conductivity_factor * surface_area * plate_temp / thickness) * dt\n",
    "    \n",
    "    plate_temp -= deltaQ / (specific_heat_capacity * 1) # 1 kg of plate\n",
    "    \n",
    "    thermal_energy_plate -= deltaQ\n",
    "    thermal_energy_ice += deltaQ\n",
    "    \n",
    "    return State(thermal_energy_plate=thermal_energy_plate, thermal_energy_ice=thermal_energy_ice, plate_temp=plate_temp)"
   ]
  },
  {
   "cell_type": "code",
   "execution_count": 36,
   "metadata": {},
   "outputs": [],
   "source": [
    "def run_simulation(system, update_func):\n",
    "    unpack(system)\n",
    "    \n",
    "    frame = TimeFrame(columns=init.index)\n",
    "    frame.row[t0] = init\n",
    "    \n",
    "    melted = False\n",
    "    t = 0\n",
    "    while not melted:\n",
    "        new_state = update_func(frame.row[t], dt, system)\n",
    "        if new_state.thermal_energy_plate < 0:\n",
    "            melted = True\n",
    "        else:\n",
    "            t = round(t + dt, 1)\n",
    "            frame.row[t] = new_state\n",
    "#             print(frame.row[t])\n",
    "        \n",
    "    return frame"
   ]
  },
  {
   "cell_type": "code",
   "execution_count": 37,
   "metadata": {},
   "outputs": [
    {
     "data": {
      "text/html": [
       "<div>\n",
       "<style scoped>\n",
       "    .dataframe tbody tr th:only-of-type {\n",
       "        vertical-align: middle;\n",
       "    }\n",
       "\n",
       "    .dataframe tbody tr th {\n",
       "        vertical-align: top;\n",
       "    }\n",
       "\n",
       "    .dataframe thead th {\n",
       "        text-align: right;\n",
       "    }\n",
       "</style>\n",
       "<table border=\"1\" class=\"dataframe\">\n",
       "  <thead>\n",
       "    <tr style=\"text-align: right;\">\n",
       "      <th></th>\n",
       "      <th>thermal_energy_plate</th>\n",
       "      <th>thermal_energy_ice</th>\n",
       "      <th>plate_temp</th>\n",
       "    </tr>\n",
       "  </thead>\n",
       "  <tbody>\n",
       "    <tr>\n",
       "      <th>0.0</th>\n",
       "      <td>16500.000000</td>\n",
       "      <td>0.000000</td>\n",
       "      <td>23.000000</td>\n",
       "    </tr>\n",
       "    <tr>\n",
       "      <th>0.1</th>\n",
       "      <td>15321.250000</td>\n",
       "      <td>1178.750000</td>\n",
       "      <td>21.685897</td>\n",
       "    </tr>\n",
       "    <tr>\n",
       "      <th>0.2</th>\n",
       "      <td>14209.847756</td>\n",
       "      <td>2290.152244</td>\n",
       "      <td>20.446876</td>\n",
       "    </tr>\n",
       "    <tr>\n",
       "      <th>0.3</th>\n",
       "      <td>13161.945362</td>\n",
       "      <td>3338.054638</td>\n",
       "      <td>19.278646</td>\n",
       "    </tr>\n",
       "    <tr>\n",
       "      <th>0.4</th>\n",
       "      <td>12173.914760</td>\n",
       "      <td>4326.085240</td>\n",
       "      <td>18.177162</td>\n",
       "    </tr>\n",
       "    <tr>\n",
       "      <th>0.5</th>\n",
       "      <td>11242.335182</td>\n",
       "      <td>5257.664818</td>\n",
       "      <td>17.138612</td>\n",
       "    </tr>\n",
       "    <tr>\n",
       "      <th>0.6</th>\n",
       "      <td>10363.981305</td>\n",
       "      <td>6136.018695</td>\n",
       "      <td>16.159399</td>\n",
       "    </tr>\n",
       "    <tr>\n",
       "      <th>0.7</th>\n",
       "      <td>9535.812083</td>\n",
       "      <td>6964.187917</td>\n",
       "      <td>15.236134</td>\n",
       "    </tr>\n",
       "    <tr>\n",
       "      <th>0.8</th>\n",
       "      <td>8754.960222</td>\n",
       "      <td>7745.039778</td>\n",
       "      <td>14.365619</td>\n",
       "    </tr>\n",
       "    <tr>\n",
       "      <th>0.9</th>\n",
       "      <td>8018.722250</td>\n",
       "      <td>8481.277750</td>\n",
       "      <td>13.544841</td>\n",
       "    </tr>\n",
       "    <tr>\n",
       "      <th>1.0</th>\n",
       "      <td>7324.549156</td>\n",
       "      <td>9175.450844</td>\n",
       "      <td>12.770958</td>\n",
       "    </tr>\n",
       "    <tr>\n",
       "      <th>1.1</th>\n",
       "      <td>6670.037568</td>\n",
       "      <td>9829.962432</td>\n",
       "      <td>12.041290</td>\n",
       "    </tr>\n",
       "    <tr>\n",
       "      <th>1.2</th>\n",
       "      <td>6052.921430</td>\n",
       "      <td>10447.078570</td>\n",
       "      <td>11.353313</td>\n",
       "    </tr>\n",
       "    <tr>\n",
       "      <th>1.3</th>\n",
       "      <td>5471.064158</td>\n",
       "      <td>11028.935842</td>\n",
       "      <td>10.704642</td>\n",
       "    </tr>\n",
       "    <tr>\n",
       "      <th>1.4</th>\n",
       "      <td>4922.451239</td>\n",
       "      <td>11577.548761</td>\n",
       "      <td>10.093034</td>\n",
       "    </tr>\n",
       "    <tr>\n",
       "      <th>1.5</th>\n",
       "      <td>4405.183262</td>\n",
       "      <td>12094.816738</td>\n",
       "      <td>9.516369</td>\n",
       "    </tr>\n",
       "    <tr>\n",
       "      <th>1.6</th>\n",
       "      <td>3917.469335</td>\n",
       "      <td>12582.530665</td>\n",
       "      <td>8.972653</td>\n",
       "    </tr>\n",
       "    <tr>\n",
       "      <th>1.7</th>\n",
       "      <td>3457.620892</td>\n",
       "      <td>13042.379108</td>\n",
       "      <td>8.460001</td>\n",
       "    </tr>\n",
       "    <tr>\n",
       "      <th>1.8</th>\n",
       "      <td>3024.045841</td>\n",
       "      <td>13475.954159</td>\n",
       "      <td>7.976640</td>\n",
       "    </tr>\n",
       "    <tr>\n",
       "      <th>1.9</th>\n",
       "      <td>2615.243055</td>\n",
       "      <td>13884.756945</td>\n",
       "      <td>7.520895</td>\n",
       "    </tr>\n",
       "    <tr>\n",
       "      <th>2.0</th>\n",
       "      <td>2229.797172</td>\n",
       "      <td>14270.202828</td>\n",
       "      <td>7.091190</td>\n",
       "    </tr>\n",
       "    <tr>\n",
       "      <th>2.1</th>\n",
       "      <td>1866.373699</td>\n",
       "      <td>14633.626301</td>\n",
       "      <td>6.686035</td>\n",
       "    </tr>\n",
       "    <tr>\n",
       "      <th>2.2</th>\n",
       "      <td>1523.714388</td>\n",
       "      <td>14976.285612</td>\n",
       "      <td>6.304029</td>\n",
       "    </tr>\n",
       "    <tr>\n",
       "      <th>2.3</th>\n",
       "      <td>1200.632881</td>\n",
       "      <td>15299.367119</td>\n",
       "      <td>5.943849</td>\n",
       "    </tr>\n",
       "    <tr>\n",
       "      <th>2.4</th>\n",
       "      <td>896.010601</td>\n",
       "      <td>15603.989399</td>\n",
       "      <td>5.604248</td>\n",
       "    </tr>\n",
       "    <tr>\n",
       "      <th>2.5</th>\n",
       "      <td>608.792882</td>\n",
       "      <td>15891.207118</td>\n",
       "      <td>5.284050</td>\n",
       "    </tr>\n",
       "    <tr>\n",
       "      <th>2.6</th>\n",
       "      <td>337.985318</td>\n",
       "      <td>16162.014682</td>\n",
       "      <td>4.982146</td>\n",
       "    </tr>\n",
       "    <tr>\n",
       "      <th>2.7</th>\n",
       "      <td>82.650315</td>\n",
       "      <td>16417.349685</td>\n",
       "      <td>4.697492</td>\n",
       "    </tr>\n",
       "  </tbody>\n",
       "</table>\n",
       "</div>"
      ],
      "text/plain": [
       "     thermal_energy_plate  thermal_energy_ice  plate_temp\n",
       "0.0          16500.000000            0.000000   23.000000\n",
       "0.1          15321.250000         1178.750000   21.685897\n",
       "0.2          14209.847756         2290.152244   20.446876\n",
       "0.3          13161.945362         3338.054638   19.278646\n",
       "0.4          12173.914760         4326.085240   18.177162\n",
       "0.5          11242.335182         5257.664818   17.138612\n",
       "0.6          10363.981305         6136.018695   16.159399\n",
       "0.7           9535.812083         6964.187917   15.236134\n",
       "0.8           8754.960222         7745.039778   14.365619\n",
       "0.9           8018.722250         8481.277750   13.544841\n",
       "1.0           7324.549156         9175.450844   12.770958\n",
       "1.1           6670.037568         9829.962432   12.041290\n",
       "1.2           6052.921430        10447.078570   11.353313\n",
       "1.3           5471.064158        11028.935842   10.704642\n",
       "1.4           4922.451239        11577.548761   10.093034\n",
       "1.5           4405.183262        12094.816738    9.516369\n",
       "1.6           3917.469335        12582.530665    8.972653\n",
       "1.7           3457.620892        13042.379108    8.460001\n",
       "1.8           3024.045841        13475.954159    7.976640\n",
       "1.9           2615.243055        13884.756945    7.520895\n",
       "2.0           2229.797172        14270.202828    7.091190\n",
       "2.1           1866.373699        14633.626301    6.686035\n",
       "2.2           1523.714388        14976.285612    6.304029\n",
       "2.3           1200.632881        15299.367119    5.943849\n",
       "2.4            896.010601        15603.989399    5.604248\n",
       "2.5            608.792882        15891.207118    5.284050\n",
       "2.6            337.985318        16162.014682    4.982146\n",
       "2.7             82.650315        16417.349685    4.697492"
      ]
     },
     "execution_count": 37,
     "metadata": {},
     "output_type": "execute_result"
    }
   ],
   "source": [
    "params = Params(thermal_conductivity_factor=205,\n",
    "                specific_heat_capacity=897,\n",
    "                surface_area=.05,\n",
    "                plate_temp=23,\n",
    "                thickness=.02)\n",
    "system = make_system(params)\n",
    "results = run_simulation(system, update_func)\n",
    "# results.tail()"
   ]
  },
  {
   "cell_type": "code",
   "execution_count": 38,
   "metadata": {},
   "outputs": [
    {
     "data": {
      "text/plain": [
       "<matplotlib.axes._subplots.AxesSubplot at 0x2ee53084d68>"
      ]
     },
     "execution_count": 38,
     "metadata": {},
     "output_type": "execute_result"
    },
    {
     "data": {
      "image/png": "[encoded data removed]",
      "text/plain": [
       "<Figure size 432x288 with 1 Axes>"
      ]
     },
     "metadata": {},
     "output_type": "display_data"
    }
   ],
   "source": [
    "results.thermal_energy_plate.plot()\n",
    "results.thermal_energy_ice.plot()"
   ]
  },
  {
   "cell_type": "code",
   "execution_count": 39,
   "metadata": {},
   "outputs": [],
   "source": [
    "def calc_melt_time(results):\n",
    "    return results.index[-1]"
   ]
  },
  {
   "cell_type": "code",
   "execution_count": 40,
   "metadata": {},
   "outputs": [],
   "source": [
    "def sweep_surface_area(params):\n",
    "    thermal_conductivity_factor, specific_heat_capacity, plate_temp, thickness, surface_area_array = params\n",
    "    sweep = SweepSeries()\n",
    "    for surface_area in surface_area_array:\n",
    "        system_params = Params(thermal_conductivity_factor=thermal_conductivity_factor,\n",
    "                specific_heat_capacity=specific_heat_capacity,\n",
    "                surface_area=surface_area,\n",
    "                plate_temp=plate_temp,\n",
    "                thickness=thickness)\n",
    "        system = make_system(system_params)\n",
    "        results = run_simulation(system, update_func)\n",
    "        sweep[system.surface_area]= calc_melt_time(results)\n",
    "    return sweep"
   ]
  },
  {
   "cell_type": "code",
   "execution_count": 42,
   "metadata": {},
   "outputs": [
    {
     "name": "stdout",
     "output_type": "stream",
     "text": [
      "0.01    13.9\n",
      "0.02     6.9\n",
      "0.03     4.6\n",
      "0.04     3.4\n",
      "0.05     2.7\n",
      "dtype: float64\n"
     ]
    },
    {
     "data": {
      "image/png": "[encoded data removed]",
      "text/plain": [
       "<Figure size 432x288 with 1 Axes>"
      ]
     },
     "metadata": {},
     "output_type": "display_data"
    }
   ],
   "source": [
    "surface_area_array = linspace(0.01, 1, 100)\n",
    "params = Params(thermal_conductivity_factor=205,\n",
    "                specific_heat_capacity=897,\n",
    "                plate_temp=23,\n",
    "                thickness=.02,\n",
    "                surface_area_array=surface_area_array)\n",
    "sweep = sweep_surface_area(params)\n",
    "print(sweep.head())\n",
    "for surface_area in surface_area_array:\n",
    "    label = 'surface area = ' + str(surface_area)\n",
    "    plot(sweep, label=label)"
   ]
  },
  {
   "cell_type": "code",
   "execution_count": 43,
   "metadata": {},
   "outputs": [],
   "source": [
    "def sweep_thickness(params):\n",
    "    thermal_conductivity_factor, specific_heat_capacity, surface_area, plate_temp, thickness_array = params\n",
    "    sweep = SweepSeries()\n",
    "    for thickness in thickness_array:\n",
    "        system_params = Params(thermal_conductivity_factor=thermal_conductivity_factor,\n",
    "                specific_heat_capacity=specific_heat_capacity,\n",
    "                surface_area=surface_area,\n",
    "                plate_temp=plate_temp,\n",
    "                thickness=thickness)\n",
    "        system = make_system(system_params)\n",
    "        results = run_simulation(system, update_func)\n",
    "        sweep[system.thickness]= calc_melt_time(results)\n",
    "    return sweep"
   ]
  },
  {
   "cell_type": "code",
   "execution_count": 44,
   "metadata": {},
   "outputs": [
    {
     "name": "stdout",
     "output_type": "stream",
     "text": [
      "0.01     1.3\n",
      "0.12    16.8\n",
      "0.23    32.2\n",
      "0.34    47.7\n",
      "0.45    63.2\n",
      "dtype: float64\n"
     ]
    },
    {
     "data": {
      "image/png": "[encoded data removed]",
      "text/plain": [
       "<Figure size 432x288 with 1 Axes>"
      ]
     },
     "metadata": {},
     "output_type": "display_data"
    }
   ],
   "source": [
    "thickness_array = linspace(0.01, 1, 10)\n",
    "params = Params(thermal_conductivity_factor=205,\n",
    "                specific_heat_capacity=897,\n",
    "                surface_area=.05,\n",
    "                plate_temp=23,\n",
    "                thickness_array=thickness_array)\n",
    "sweep = sweep_thickness(params)\n",
    "print(sweep.head())\n",
    "for thickness in thickness_array:\n",
    "    label = 'thickness = ' + str(thickness)\n",
    "    plot(sweep, label=label)"
   ]
  },
  {
   "cell_type": "code",
   "execution_count": 45,
   "metadata": {},
   "outputs": [],
   "source": [
    "def sweep_plate_temp(params):\n",
    "    thermal_conductivity_factor, specific_heat_capacity, surface_area, thickness, plate_temp_array = params\n",
    "    sweep = SweepSeries()\n",
    "    for plate_temp in plate_temp_array:\n",
    "        system_params = Params(thermal_conductivity_factor=thermal_conductivity_factor,\n",
    "                specific_heat_capacity=specific_heat_capacity,\n",
    "                surface_area=surface_area,\n",
    "                plate_temp=plate_temp,\n",
    "                thickness=thickness)\n",
    "        system = make_system(system_params)\n",
    "        results = run_simulation(system, update_func)\n",
    "        sweep[system.plate_temp]= calc_melt_time(results)\n",
    "    return sweep"
   ]
  },
  {
   "cell_type": "code",
   "execution_count": 51,
   "metadata": {},
   "outputs": [
    {
     "name": "stdout",
     "output_type": "stream",
     "text": [
      "20    4.2\n",
      "25    2.2\n",
      "30    1.6\n",
      "35    1.2\n",
      "40    1.0\n",
      "dtype: float64\n"
     ]
    },
    {
     "data": {
      "image/png": "[encoded data removed]",
      "text/plain": [
       "<Figure size 432x288 with 1 Axes>"
      ]
     },
     "metadata": {},
     "output_type": "display_data"
    }
   ],
   "source": [
    "plate_temp_array = linrange(20, 100, 5)\n",
    "params = Params(thermal_conductivity_factor=205,\n",
    "                specific_heat_capacity=897,\n",
    "                surface_area=.05,\n",
    "                thickness=.02,\n",
    "                plate_temp_array=plate_temp_array)\n",
    "\n",
    "thermal_conductivity_factor, specific_heat_capacity, surface_area, thickness, plate_temp_array = params\n",
    "sweep = SweepSeries()\n",
    "for plate_temp in plate_temp_array:\n",
    "    system_params = Params(thermal_conductivity_factor=thermal_conductivity_factor,\n",
    "            specific_heat_capacity=specific_heat_capacity,\n",
    "            surface_area=surface_area,\n",
    "            plate_temp=plate_temp,\n",
    "            thickness=thickness)\n",
    "    system = make_system(system_params)\n",
    "    results = run_simulation(system, update_func)\n",
    "    sweep[system.plate_temp]= calc_melt_time(results)\n",
    "print(sweep.head())\n",
    "for plate_temp in plate_temp_array:\n",
    "    label = 'plate_temp = ' + str(plate_temp)\n",
    "    plot(sweep, label=label)"
   ]
  },
  {
   "cell_type": "code",
   "execution_count": null,
   "metadata": {},
   "outputs": [],
   "source": [
    "material_info = {'material': ['aluminum', 'nickel', 'marble', 'wood'],\n",
    "                 'thermal_conductivity_factor': [205, 91, 2.5, 0.16],\n",
    "                 'specific_heat_capacity': [897, 461, 880, 2000]}\n",
    "plate_materials = pd.DataFrame(material_info,\n",
    "                              columns=['material','thermal_conductivity_factor', 'specific_heat_capacity'])\n"
   ]
  },
  {
   "cell_type": "code",
   "execution_count": null,
   "metadata": {},
   "outputs": [],
   "source": [
    "def sweep_material(params):\n",
    "    thermal_conductivity_factor, specific_heat_capacity, surface_area, plate_temp, thickness = params\n",
    "    sweep = SweepSeries()\n",
    "    for plate_temp in plate_temp_array:\n",
    "        system_params = Params(thermal_conductivity_factor=thermal_conductivity_factor,\n",
    "                specific_heat_capacity=specific_heat_capacity,\n",
    "                surface_area=surface_area,\n",
    "                plate_temp=plate_temp,\n",
    "                thickness=thickness)\n",
    "        system = make_system(system_params)\n",
    "        results = run_simulation(system, update_func)\n",
    "        sweep[system.plate_temp] = calc_melt_time(results)\n",
    "    return sweep"
   ]
  }
 ],
 "metadata": {
  "kernelspec": {
   "display_name": "Python 3",
   "language": "python",
   "name": "python3"
  },
  "language_info": {
   "codemirror_mode": {
    "name": "ipython",
    "version": 3
   },
   "file_extension": ".py",
   "mimetype": "text/x-python",
   "name": "python",
   "nbconvert_exporter": "python",
   "pygments_lexer": "ipython3",
   "version": "3.6.5"
  }
 },
 "nbformat": 4,
 "nbformat_minor": 2
}
