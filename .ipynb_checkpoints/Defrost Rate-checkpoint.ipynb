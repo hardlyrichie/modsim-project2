{
 "cells": [
  {
   "cell_type": "markdown",
   "metadata": {},
   "source": [
    "# Modeling and Simulation in Python\n",
    "\n",
    "Project 2\n",
    "\n",
    "Maalvika Bhat & Richard Gao"
   ]
  },
  {
   "cell_type": "code",
   "execution_count": 7,
   "metadata": {},
   "outputs": [],
   "source": [
    "# Configure Jupyter so figures appear in the notebook\n",
    "%matplotlib inline\n",
    "\n",
    "# Configure Jupyter to display the assigned value after an assignment\n",
    "%config InteractiveShell.ast_node_interactivity='last_expr_or_assign'\n",
    "\n",
    "# import functions from the modsim.py module\n",
    "from modsim import *"
   ]
  },
  {
   "cell_type": "code",
   "execution_count": 22,
   "metadata": {},
   "outputs": [
    {
     "name": "stdout",
     "output_type": "stream",
     "text": [
      "The history saving thread hit an unexpected error (OperationalError('disk I/O error',)).History will not be written to the database.\n"
     ]
    }
   ],
   "source": [
    "def make_system(thermal_conductivity_factor, \n",
    "                surface_area, \n",
    "                thickness,\n",
    "                specific_heat_capacity_surface,\n",
    "                specific_heat_capacity_item):\n",
    "    \"\"\"Makes a System object with the given parameters.\n",
    "    returns: System object\n",
    "    \"\"\"\n",
    "    init = State(temp_of_surface = 23,\n",
    "                 temp_of_item = 0)\n",
    "    \n",
    "    t0 = 0\n",
    "    t_end = 100\n",
    "    dt = .1\n",
    "    \n",
    "    return System(locals())"
   ]
  },
  {
   "cell_type": "code",
   "execution_count": 23,
   "metadata": {},
   "outputs": [],
   "source": [
    "def update_func(state, dt, system):\n",
    "    unpack(system)\n",
    "    temp_of_surface, temp_of_item = state\n",
    "    \n",
    "    deltaQ = (thermal_conductivity_factor * surface_area * (temp_of_surface - temp_of_item)) / thickness * dt\n",
    "    \n",
    "    temp_of_surface -= deltaQ / (specific_heat_capacity_surface * 1) # for 1 kilogram\n",
    "    temp_of_item += deltaQ / (specific_heat_capacity_item * .05) # for 50 gram\n",
    "    \n",
    "    return State(temp_of_surface=temp_of_surface, temp_of_item=temp_of_item)"
   ]
  },
  {
   "cell_type": "code",
   "execution_count": 24,
   "metadata": {},
   "outputs": [],
   "source": [
    "def run_simulation(system, update_func):\n",
    "    unpack(system)\n",
    "    \n",
    "    frame = TimeFrame(columns=init.index)\n",
    "    frame.row[t0] = init\n",
    "    \n",
    "    steps = linspace(t0, t_end, int(t_end / dt))\n",
    "    timesteps = Series(steps)\n",
    "    \n",
    "    for t in timesteps.index[:-1]:\n",
    "        frame.row[timesteps[t+1]] = update_func(frame.row[timesteps[t]], dt, system)\n",
    "        \n",
    "    return frame"
   ]
  },
  {
   "cell_type": "code",
   "execution_count": null,
   "metadata": {},
   "outputs": [],
   "source": [
    "system = make_system(205, 3, .02, 2000, 897) #thermal_conductivity_factor, surface_area, thickness, shc_surface(wood), shc_item(aluminum)\n",
    "results = run_simulation(system, update_func)\n",
    "# results.head()"
   ]
  },
  {
   "cell_type": "code",
   "execution_count": 117,
   "metadata": {},
   "outputs": [
    {
     "data": {
      "text/plain": [
       "<matplotlib.axes._subplots.AxesSubplot at 0x2275f71ed30>"
      ]
     },
     "execution_count": 117,
     "metadata": {},
     "output_type": "execute_result"
    },
    {
     "data": {
      "image/png": "[encoded data removed]",
      "text/plain": [
       "<Figure size 432x288 with 1 Axes>"
      ]
     },
     "metadata": {},
     "output_type": "display_data"
    }
   ],
   "source": [
    "results.heat_of_surface.plot()\n",
    "results.heat_of_melting.plot()"
   ]
  },
  {
   "cell_type": "code",
   "execution_count": null,
   "metadata": {},
   "outputs": [],
   "source": []
  },
  {
   "cell_type": "code",
   "execution_count": null,
   "metadata": {},
   "outputs": [],
   "source": []
  }
 ],
 "metadata": {
  "kernelspec": {
   "display_name": "Python 3",
   "language": "python",
   "name": "python3"
  },
  "language_info": {
   "codemirror_mode": {
    "name": "ipython",
    "version": 3
   },
   "file_extension": ".py",
   "mimetype": "text/x-python",
   "name": "python",
   "nbconvert_exporter": "python",
   "pygments_lexer": "ipython3",
   "version": "3.6.5"
  }
 },
 "nbformat": 4,
 "nbformat_minor": 2
}
