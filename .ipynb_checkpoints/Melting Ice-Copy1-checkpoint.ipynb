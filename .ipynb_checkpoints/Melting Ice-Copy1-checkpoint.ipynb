{
 "cells": [
  {
   "cell_type": "markdown",
   "metadata": {},
   "source": [
    "# Modeling and Simulation in Python\n",
    "\n",
    "Project 2\n",
    "\n",
    "Maalvika Bhat & Richard Gao"
   ]
  },
  {
   "cell_type": "code",
   "execution_count": 24,
   "metadata": {},
   "outputs": [],
   "source": [
    "# Configure Jupyter so figures appear in the notebook\n",
    "%matplotlib inline\n",
    "\n",
    "# Configure Jupyter to display the assigned value after an assignment\n",
    "%config InteractiveShell.ast_node_interactivity='last_expr_or_assign'\n",
    "\n",
    "# import functions from the modsim.py module\n",
    "from modsim import *"
   ]
  },
  {
   "cell_type": "code",
   "execution_count": 25,
   "metadata": {},
   "outputs": [
    {
     "data": {
      "text/plain": [
       "16500.0"
      ]
     },
     "execution_count": 25,
     "metadata": {},
     "output_type": "execute_result"
    }
   ],
   "source": [
    "# Calculate the heat necessary to melt .05 kg of ice\n",
    "m_solid = .05\n",
    "latent_heat_fusion = 3.3 * 10 ** 5\n",
    "q = m_solid * latent_heat_fusion"
   ]
  },
  {
   "cell_type": "code",
   "execution_count": 26,
   "metadata": {},
   "outputs": [
    {
     "data": {
      "text/html": [
       "<div>\n",
       "<style scoped>\n",
       "    .dataframe tbody tr th:only-of-type {\n",
       "        vertical-align: middle;\n",
       "    }\n",
       "\n",
       "    .dataframe tbody tr th {\n",
       "        vertical-align: top;\n",
       "    }\n",
       "\n",
       "    .dataframe thead th {\n",
       "        text-align: right;\n",
       "    }\n",
       "</style>\n",
       "<table border=\"1\" class=\"dataframe\">\n",
       "  <thead>\n",
       "    <tr style=\"text-align: right;\">\n",
       "      <th></th>\n",
       "      <th>material</th>\n",
       "      <th>thermal_conductivity_factor</th>\n",
       "      <th>specific_heat_capacity</th>\n",
       "      <th>density</th>\n",
       "    </tr>\n",
       "  </thead>\n",
       "  <tbody>\n",
       "    <tr>\n",
       "      <th>0</th>\n",
       "      <td>aluminum</td>\n",
       "      <td>205.00</td>\n",
       "      <td>897</td>\n",
       "      <td>2700</td>\n",
       "    </tr>\n",
       "    <tr>\n",
       "      <th>1</th>\n",
       "      <td>nickel</td>\n",
       "      <td>91.00</td>\n",
       "      <td>461</td>\n",
       "      <td>8908</td>\n",
       "    </tr>\n",
       "    <tr>\n",
       "      <th>2</th>\n",
       "      <td>marble</td>\n",
       "      <td>2.50</td>\n",
       "      <td>880</td>\n",
       "      <td>2570</td>\n",
       "    </tr>\n",
       "    <tr>\n",
       "      <th>3</th>\n",
       "      <td>wood</td>\n",
       "      <td>0.16</td>\n",
       "      <td>2000</td>\n",
       "      <td>240</td>\n",
       "    </tr>\n",
       "  </tbody>\n",
       "</table>\n",
       "</div>"
      ],
      "text/plain": [
       "   material  thermal_conductivity_factor  specific_heat_capacity  density\n",
       "0  aluminum                       205.00                     897     2700\n",
       "1    nickel                        91.00                     461     8908\n",
       "2    marble                         2.50                     880     2570\n",
       "3      wood                         0.16                    2000      240"
      ]
     },
     "execution_count": 26,
     "metadata": {},
     "output_type": "execute_result"
    }
   ],
   "source": [
    "# Specify material information\n",
    "material_info = {'material': ['aluminum', 'nickel', 'marble', 'wood'],\n",
    "                 'thermal_conductivity_factor': [205, 91, 2.5, 0.16],\n",
    "                 'specific_heat_capacity': [897, 461, 880, 2000],\n",
    "                 'density': [2700, 8908, 2570, 240]}\n",
    "\n",
    "plate_materials = pd.DataFrame(material_info,\n",
    "                              columns=['material','thermal_conductivity_factor', 'specific_heat_capacity', 'density'])"
   ]
  },
  {
   "cell_type": "code",
   "execution_count": 27,
   "metadata": {},
   "outputs": [],
   "source": [
    "def make_system(params):\n",
    "    \"\"\"Makes a System object with the given parameters held within the params object.\n",
    "\n",
    "    material: type of material as a string\n",
    "    plate_materials: dataframe of recorded material information \n",
    "                     (name, thermal conductivity factor, \n",
    "                      specific heat capacity, density)\n",
    "    surface_area: area of plate in contact with ice, in meters^2\n",
    "    plate_temp: temperature of the plate, in celsius \n",
    "    thickness: thickness of the plate, in meters\n",
    "    dt: time interval, in seconds\n",
    "    \n",
    "    returns: System object\n",
    "    \"\"\"\n",
    "    material, plate_materials, surface_area, plate_temp, thickness, dt = params\n",
    "\n",
    "    # Assumption that the thermal energy in hand is unlimited as long as the human keeps eating, therefore\n",
    "    # thermal_energy_hand is set to a random large number\n",
    "    init = State(thermal_energy_hand = 100000, \n",
    "                 thermal_energy_ice = 0,\n",
    "                 plate_temp=plate_temp)\n",
    "    \n",
    "    t0 = 0\n",
    "    dt = dt\n",
    "    \n",
    "    return System(locals())"
   ]
  },
  {
   "cell_type": "code",
   "execution_count": 28,
   "metadata": {},
   "outputs": [],
   "source": [
    "def update_func(state, system):\n",
    "    \"\"\"Update the ice-plate-hand melting model.\n",
    "    \n",
    "    state: State\n",
    "    system: System object\n",
    "    \n",
    "    returns: State\n",
    "    \"\"\"\n",
    "    unpack(system)\n",
    "    thermal_energy_hand, thermal_energy_ice, plate_temp = state\n",
    "    \n",
    "    index = pd.Index(plate_materials['material']).get_loc(material)\n",
    "    \n",
    "    thermal_conductivity_factor = plate_materials['thermal_conductivity_factor'][index]\n",
    "    specific_heat_capacity = plate_materials['specific_heat_capacity'][index]\n",
    "    density = plate_materials['density'][index]\n",
    "    \n",
    "    # mass is dependent on the parameters surface_area and thickness and material type, m=V*p\n",
    "    mass = (surface_area * thickness) * density\n",
    "    # TODO: change hand temp so it's not a constant but variable in temperature\n",
    "    hand_temperature = 37 \n",
    "    \n",
    "    hand_to_plate = mass * specific_heat_capacity * (hand_temperature - plate_temp) * dt\n",
    "    \n",
    "    plate_to_ice = (thermal_conductivity_factor * surface_area * plate_temp / thickness) * dt\n",
    "    \n",
    "    thermal_energy_hand -= hand_to_plate\n",
    "    thermal_energy_ice += plate_to_ice\n",
    "    \n",
    "    deltaQ = hand_to_plate - plate_to_ice\n",
    "    \n",
    "    # We've abstracted the scenario to not take convection or radiation into account\n",
    "    plate_temp += deltaQ / (specific_heat_capacity * mass)\n",
    "    \n",
    "    return State(thermal_energy_hand=thermal_energy_hand, thermal_energy_ice=thermal_energy_ice, plate_temp=plate_temp)"
   ]
  },
  {
   "cell_type": "code",
   "execution_count": 29,
   "metadata": {},
   "outputs": [],
   "source": [
    "def run_simulation(system, update_func):\n",
    "    \"\"\"Runs a simulation of the system.\n",
    "    \n",
    "    Add a TimeFrame to the System: results\n",
    "    \n",
    "    system: System object\n",
    "    update_func: function that updates state\n",
    "    \"\"\"\n",
    "    unpack(system)\n",
    "    \n",
    "    frame = TimeFrame(columns=init.index)\n",
    "    frame.row[t0] = init\n",
    "    \n",
    "    # Runs simulation until ice has completely melted -> thermal_energy_ice surpasses heat necessary to melt ice q\n",
    "    melted = False\n",
    "    t = 0\n",
    "    while not melted:\n",
    "        new_state = update_func(frame.row[t], system)\n",
    "        if new_state.thermal_energy_ice >= q:\n",
    "            melted = True\n",
    "        else:\n",
    "            t = round(t + dt, 3)\n",
    "            frame.row[t] = new_state\n",
    "#             print(frame.row[t])\n",
    "        \n",
    "    return frame"
   ]
  },
  {
   "cell_type": "code",
   "execution_count": 30,
   "metadata": {},
   "outputs": [
    {
     "data": {
      "text/html": [
       "<div>\n",
       "<style scoped>\n",
       "    .dataframe tbody tr th:only-of-type {\n",
       "        vertical-align: middle;\n",
       "    }\n",
       "\n",
       "    .dataframe tbody tr th {\n",
       "        vertical-align: top;\n",
       "    }\n",
       "\n",
       "    .dataframe thead th {\n",
       "        text-align: right;\n",
       "    }\n",
       "</style>\n",
       "<table border=\"1\" class=\"dataframe\">\n",
       "  <thead>\n",
       "    <tr style=\"text-align: right;\">\n",
       "      <th></th>\n",
       "      <th>thermal_energy_hand</th>\n",
       "      <th>thermal_energy_ice</th>\n",
       "      <th>plate_temp</th>\n",
       "    </tr>\n",
       "  </thead>\n",
       "  <tbody>\n",
       "    <tr>\n",
       "      <th>0.0</th>\n",
       "      <td>100000</td>\n",
       "      <td>0</td>\n",
       "      <td>23</td>\n",
       "    </tr>\n",
       "    <tr>\n",
       "      <th>0.1</th>\n",
       "      <td>96609.3</td>\n",
       "      <td>1178.75</td>\n",
       "      <td>23.9133</td>\n",
       "    </tr>\n",
       "    <tr>\n",
       "      <th>0.2</th>\n",
       "      <td>93439.9</td>\n",
       "      <td>2404.31</td>\n",
       "      <td>24.7159</td>\n",
       "    </tr>\n",
       "    <tr>\n",
       "      <th>0.3</th>\n",
       "      <td>90464.8</td>\n",
       "      <td>3671</td>\n",
       "      <td>25.4213</td>\n",
       "    </tr>\n",
       "    <tr>\n",
       "      <th>0.4</th>\n",
       "      <td>87660.6</td>\n",
       "      <td>4973.84</td>\n",
       "      <td>26.0413</td>\n",
       "    </tr>\n",
       "    <tr>\n",
       "      <th>0.5</th>\n",
       "      <td>85006.5</td>\n",
       "      <td>6308.46</td>\n",
       "      <td>26.5861</td>\n",
       "    </tr>\n",
       "    <tr>\n",
       "      <th>0.6</th>\n",
       "      <td>82484.3</td>\n",
       "      <td>7670.99</td>\n",
       "      <td>27.0649</td>\n",
       "    </tr>\n",
       "    <tr>\n",
       "      <th>0.7</th>\n",
       "      <td>80078.1</td>\n",
       "      <td>9058.07</td>\n",
       "      <td>27.4857</td>\n",
       "    </tr>\n",
       "    <tr>\n",
       "      <th>0.8</th>\n",
       "      <td>77773.8</td>\n",
       "      <td>10466.7</td>\n",
       "      <td>27.8555</td>\n",
       "    </tr>\n",
       "    <tr>\n",
       "      <th>0.9</th>\n",
       "      <td>75559.1</td>\n",
       "      <td>11894.3</td>\n",
       "      <td>28.1805</td>\n",
       "    </tr>\n",
       "    <tr>\n",
       "      <th>1.0</th>\n",
       "      <td>73423.1</td>\n",
       "      <td>13338.5</td>\n",
       "      <td>28.4661</td>\n",
       "    </tr>\n",
       "    <tr>\n",
       "      <th>1.1</th>\n",
       "      <td>71356.3</td>\n",
       "      <td>14797.4</td>\n",
       "      <td>28.7171</td>\n",
       "    </tr>\n",
       "    <tr>\n",
       "      <th>1.2</th>\n",
       "      <td>69350.3</td>\n",
       "      <td>16269.2</td>\n",
       "      <td>28.9377</td>\n",
       "    </tr>\n",
       "  </tbody>\n",
       "</table>\n",
       "</div>"
      ],
      "text/plain": [
       "    thermal_energy_hand thermal_energy_ice plate_temp\n",
       "0.0              100000                  0         23\n",
       "0.1             96609.3            1178.75    23.9133\n",
       "0.2             93439.9            2404.31    24.7159\n",
       "0.3             90464.8               3671    25.4213\n",
       "0.4             87660.6            4973.84    26.0413\n",
       "0.5             85006.5            6308.46    26.5861\n",
       "0.6             82484.3            7670.99    27.0649\n",
       "0.7             80078.1            9058.07    27.4857\n",
       "0.8             77773.8            10466.7    27.8555\n",
       "0.9             75559.1            11894.3    28.1805\n",
       "1.0             73423.1            13338.5    28.4661\n",
       "1.1             71356.3            14797.4    28.7171\n",
       "1.2             69350.3            16269.2    28.9377"
      ]
     },
     "execution_count": 30,
     "metadata": {},
     "output_type": "execute_result"
    }
   ],
   "source": [
    "params = Params(material='aluminum',\n",
    "                plate_materials=plate_materials,\n",
    "                surface_area=.05,\n",
    "                plate_temp=23,\n",
    "                thickness=.02,\n",
    "                dt=.1)\n",
    "system = make_system(params)\n",
    "results = run_simulation(system, update_func)"
   ]
  },
  {
   "cell_type": "code",
   "execution_count": 31,
   "metadata": {},
   "outputs": [
    {
     "data": {
      "text/plain": [
       "<matplotlib.axes._subplots.AxesSubplot at 0x23102393400>"
      ]
     },
     "execution_count": 31,
     "metadata": {},
     "output_type": "execute_result"
    },
    {
     "data": {
      "image/png": "[encoded data removed]",
      "text/plain": [
       "<Figure size 432x288 with 1 Axes>"
      ]
     },
     "metadata": {},
     "output_type": "display_data"
    }
   ],
   "source": [
    "results.thermal_energy_hand.plot()\n",
    "results.thermal_energy_ice.plot()"
   ]
  },
  {
   "cell_type": "code",
   "execution_count": 549,
   "metadata": {},
   "outputs": [],
   "source": [
    "def calc_melt_time(results):\n",
    "    \"\"\"Returns the total runtime of simulation in seconds\n",
    "    \n",
    "    results: results of run_simulation\n",
    "\n",
    "    returns: last index of TimeFrame \n",
    "    \"\"\"\n",
    "    return results.index[-1]"
   ]
  },
  {
   "cell_type": "code",
   "execution_count": null,
   "metadata": {},
   "outputs": [],
   "source": [
    "def sweep_material(params):\n",
    "    plate_materials, surface_area, plate_temp, thickness = params\n",
    "    \n",
    "    thermal_conductivity_factors = plate_materials['thermal_conductivity_factor']\n",
    "    specific_heat_capacities = plate_materials['specific_heat_capacity']\n",
    "    \n",
    "    sweep = SweepSeries()\n",
    "    for i in range(0, plate_materials['material'].size):\n",
    "        system_params = Params(plate_materials['material'][i],\n",
    "                plate_materials=plate_materials,\n",
    "                surface_area=surface_area,\n",
    "                plate_temp=plate_temp,\n",
    "                thickness=thickness,\n",
    "                dt=.1)\n",
    "        system = make_system(system_params)\n",
    "        results = run_simulation(system, update_func)\n",
    "        sweep[plate_materials['material'][i]] = calc_melt_time(results)\n",
    "    return sweep"
   ]
  },
  {
   "cell_type": "code",
   "execution_count": null,
   "metadata": {},
   "outputs": [],
   "source": [
    "params = Params(plate_materials=plate_materials,\n",
    "                surface_area=.05,\n",
    "                plate_temp=23,\n",
    "                thickness=.02)\n",
    "sweep = sweep_material(params)\n",
    "print(sweep)\n",
    "for i in plate_materials['material']:\n",
    "    label = 'material = ' + i\n",
    "    plot(sweep, 'o', label=label)"
   ]
  },
  {
   "cell_type": "code",
   "execution_count": 550,
   "metadata": {},
   "outputs": [],
   "source": [
    "def sweep_surface_area(params):\n",
    "    material, plate_materials, plate_temp, thickness, surface_area_array = params\n",
    "    sweep = SweepSeries()\n",
    "    for surface_area in surface_area_array:\n",
    "        system_params = Params(material=material,\n",
    "                plate_materials=plate_materials,\n",
    "                surface_area=surface_area,\n",
    "                plate_temp=plate_temp,\n",
    "                thickness=thickness,\n",
    "                dt=.1)\n",
    "        system = make_system(system_params)\n",
    "        results = run_simulation(system, update_func)\n",
    "        sweep[system.surface_area]= calc_melt_time(results)\n",
    "    return sweep"
   ]
  },
  {
   "cell_type": "code",
   "execution_count": 551,
   "metadata": {},
   "outputs": [
    {
     "name": "stdout",
     "output_type": "stream",
     "text": [
      "0.01    5.4\n",
      "0.02    2.8\n",
      "0.03    1.9\n",
      "0.04    1.4\n",
      "0.05    1.2\n",
      "dtype: float64\n"
     ]
    },
    {
     "data": {
      "image/png": "[encoded data removed]",
      "text/plain": [
       "<Figure size 432x288 with 1 Axes>"
      ]
     },
     "metadata": {},
     "output_type": "display_data"
    }
   ],
   "source": [
    "surface_area_array = linspace(0.01, 1, 100)\n",
    "params = Params(material='aluminum',\n",
    "                plate_materials=plate_materials,\n",
    "                plate_temp=23,\n",
    "                thickness=.02,\n",
    "                surface_area_array=surface_area_array)\n",
    "sweep = sweep_surface_area(params)\n",
    "print(sweep.head())\n",
    "for surface_area in surface_area_array:\n",
    "    label = 'surface area = ' + str(surface_area)\n",
    "    plot(sweep, label=label)"
   ]
  },
  {
   "cell_type": "code",
   "execution_count": null,
   "metadata": {},
   "outputs": [],
   "source": [
    "def sweep_plate_temp(params):\n",
    "    material, plate_materials, surface_area, thickness, plate_temp_array = params\n",
    "    sweep = SweepSeries()\n",
    "    for plate_temp in plate_temp_array:\n",
    "        system_params = Params(material=material,\n",
    "                plate_materials=plate_materials,\n",
    "                surface_area=surface_area,\n",
    "                plate_temp=plate_temp,\n",
    "                thickness=thickness,\n",
    "                dt=.1)\n",
    "        system = make_system(system_params)\n",
    "        results = run_simulation(system, update_func)\n",
    "        sweep[system.plate_temp]= calc_melt_time(results)\n",
    "    return sweep"
   ]
  },
  {
   "cell_type": "code",
   "execution_count": null,
   "metadata": {},
   "outputs": [],
   "source": [
    "plate_temp_array = linrange(0, 100, 5)\n",
    "params = Params(material='aluminum',\n",
    "                plate_materials=plate_materials,\n",
    "                surface_area=.05,\n",
    "                thickness=.02,\n",
    "                plate_temp_array=plate_temp_array)\n",
    "sweep = sweep_plate_temp(params)\n",
    "print(sweep.head())\n",
    "for plate_temp in plate_temp_array:\n",
    "    label = 'plate_temp = ' + str(plate_temp)\n",
    "    plot(sweep, label=label)"
   ]
  },
  {
   "cell_type": "code",
   "execution_count": 552,
   "metadata": {},
   "outputs": [],
   "source": [
    "def sweep_thickness(params):\n",
    "    material, plate_materials, surface_area, plate_temp, thickness_array = params\n",
    "    sweep = SweepSeries()\n",
    "    for thickness in thickness_array:\n",
    "        system_params = Params(material=material,\n",
    "                plate_materials=plate_materials,\n",
    "                surface_area=surface_area,\n",
    "                plate_temp=plate_temp,\n",
    "                thickness=thickness,\n",
    "                dt=.1)\n",
    "        system = make_system(system_params)\n",
    "        results = run_simulation(system, update_func)\n",
    "        sweep[system.thickness]= calc_melt_time(results)\n",
    "    return sweep"
   ]
  },
  {
   "cell_type": "code",
   "execution_count": null,
   "metadata": {},
   "outputs": [],
   "source": []
  },
  {
   "cell_type": "code",
   "execution_count": 553,
   "metadata": {},
   "outputs": [
    {
     "name": "stdout",
     "output_type": "stream",
     "text": [
      "0.01     0.7\n",
      "0.12     5.6\n",
      "0.23    10.3\n",
      "0.34    15.1\n",
      "0.45    19.9\n",
      "dtype: float64\n"
     ]
    },
    {
     "data": {
      "image/png": "[encoded data removed]",
      "text/plain": [
       "<Figure size 432x288 with 1 Axes>"
      ]
     },
     "metadata": {},
     "output_type": "display_data"
    }
   ],
   "source": [
    "thickness_array = linspace(0.01, 1, 10)\n",
    "params = Params(material='aluminum',\n",
    "                plate_materials=plate_materials,\n",
    "                surface_area=.05,\n",
    "                plate_temp=23,\n",
    "                thickness_array=thickness_array)\n",
    "sweep = sweep_thickness(params)\n",
    "print(sweep.head())\n",
    "for thickness in thickness_array:\n",
    "    label = 'thickness = ' + str(thickness)\n",
    "    plot(sweep, label=label)"
   ]
  },
  {
   "cell_type": "code",
   "execution_count": 554,
   "metadata": {},
   "outputs": [],
   "source": []
  },
  {
   "cell_type": "code",
   "execution_count": 555,
   "metadata": {},
   "outputs": [
    {
     "name": "stdout",
     "output_type": "stream",
     "text": [
      "0     1.7\n",
      "5     1.6\n",
      "10    1.5\n",
      "15    1.4\n",
      "20    1.2\n",
      "dtype: float64\n"
     ]
    },
    {
     "data": {
      "image/png": "[encoded data removed]",
      "text/plain": [
       "<Figure size 432x288 with 1 Axes>"
      ]
     },
     "metadata": {},
     "output_type": "display_data"
    }
   ],
   "source": []
  },
  {
   "cell_type": "code",
   "execution_count": 556,
   "metadata": {},
   "outputs": [],
   "source": []
  },
  {
   "cell_type": "code",
   "execution_count": 557,
   "metadata": {},
   "outputs": [
    {
     "name": "stdout",
     "output_type": "stream",
     "text": [
      "aluminum       1.2\n",
      "nickel         2.3\n",
      "marble        71.9\n",
      "wood        1116.1\n",
      "dtype: float64\n"
     ]
    },
    {
     "data": {
      "image/png": "[encoded data removed]",
      "text/plain": [
       "<Figure size 432x288 with 1 Axes>"
      ]
     },
     "metadata": {},
     "output_type": "display_data"
    }
   ],
   "source": []
  },
  {
   "cell_type": "code",
   "execution_count": 568,
   "metadata": {},
   "outputs": [
    {
     "data": {
      "text/html": [
       "<div>\n",
       "<style scoped>\n",
       "    .dataframe tbody tr th:only-of-type {\n",
       "        vertical-align: middle;\n",
       "    }\n",
       "\n",
       "    .dataframe tbody tr th {\n",
       "        vertical-align: top;\n",
       "    }\n",
       "\n",
       "    .dataframe thead th {\n",
       "        text-align: right;\n",
       "    }\n",
       "</style>\n",
       "<table border=\"1\" class=\"dataframe\">\n",
       "  <thead>\n",
       "    <tr style=\"text-align: right;\">\n",
       "      <th></th>\n",
       "      <th>thermal_energy_hand</th>\n",
       "      <th>thermal_energy_ice</th>\n",
       "      <th>plate_temp</th>\n",
       "    </tr>\n",
       "  </thead>\n",
       "  <tbody>\n",
       "    <tr>\n",
       "      <th>0.000</th>\n",
       "      <td>100000</td>\n",
       "      <td>0</td>\n",
       "      <td>100</td>\n",
       "    </tr>\n",
       "    <tr>\n",
       "      <th>0.001</th>\n",
       "      <td>101526</td>\n",
       "      <td>2050</td>\n",
       "      <td>99.8524</td>\n",
       "    </tr>\n",
       "    <tr>\n",
       "      <th>0.002</th>\n",
       "      <td>103048</td>\n",
       "      <td>4096.97</td>\n",
       "      <td>99.705</td>\n",
       "    </tr>\n",
       "    <tr>\n",
       "      <th>0.003</th>\n",
       "      <td>104567</td>\n",
       "      <td>6140.93</td>\n",
       "      <td>99.5579</td>\n",
       "    </tr>\n",
       "    <tr>\n",
       "      <th>0.004</th>\n",
       "      <td>106082</td>\n",
       "      <td>8181.86</td>\n",
       "      <td>99.4111</td>\n",
       "    </tr>\n",
       "    <tr>\n",
       "      <th>0.005</th>\n",
       "      <td>107593</td>\n",
       "      <td>10219.8</td>\n",
       "      <td>99.2645</td>\n",
       "    </tr>\n",
       "    <tr>\n",
       "      <th>0.006</th>\n",
       "      <td>109101</td>\n",
       "      <td>12254.7</td>\n",
       "      <td>99.1182</td>\n",
       "    </tr>\n",
       "    <tr>\n",
       "      <th>0.007</th>\n",
       "      <td>110606</td>\n",
       "      <td>14286.6</td>\n",
       "      <td>98.9722</td>\n",
       "    </tr>\n",
       "    <tr>\n",
       "      <th>0.008</th>\n",
       "      <td>112107</td>\n",
       "      <td>16315.6</td>\n",
       "      <td>98.8265</td>\n",
       "    </tr>\n",
       "  </tbody>\n",
       "</table>\n",
       "</div>"
      ],
      "text/plain": [
       "      thermal_energy_hand thermal_energy_ice plate_temp\n",
       "0.000              100000                  0        100\n",
       "0.001              101526               2050    99.8524\n",
       "0.002              103048            4096.97     99.705\n",
       "0.003              104567            6140.93    99.5579\n",
       "0.004              106082            8181.86    99.4111\n",
       "0.005              107593            10219.8    99.2645\n",
       "0.006              109101            12254.7    99.1182\n",
       "0.007              110606            14286.6    98.9722\n",
       "0.008              112107            16315.6    98.8265"
      ]
     },
     "execution_count": 568,
     "metadata": {},
     "output_type": "execute_result"
    }
   ],
   "source": [
    "params = Params(material='aluminum',\n",
    "                plate_materials=plate_materials,\n",
    "                surface_area=1,\n",
    "                plate_temp=100,\n",
    "                thickness=.01,\n",
    "                dt=.001)\n",
    "system = make_system(params)\n",
    "results = run_simulation(system, update_func)"
   ]
  },
  {
   "cell_type": "code",
   "execution_count": 569,
   "metadata": {},
   "outputs": [
    {
     "data": {
      "text/plain": [
       "<matplotlib.axes._subplots.AxesSubplot at 0x2314edf5b38>"
      ]
     },
     "execution_count": 569,
     "metadata": {},
     "output_type": "execute_result"
    },
    {
     "data": {
      "image/png": "[encoded data removed]",
      "text/plain": [
       "<Figure size 432x288 with 1 Axes>"
      ]
     },
     "metadata": {},
     "output_type": "display_data"
    }
   ],
   "source": [
    "results.thermal_energy_hand.plot()\n",
    "results.thermal_energy_ice.plot()"
   ]
  },
  {
   "cell_type": "code",
   "execution_count": null,
   "metadata": {},
   "outputs": [],
   "source": []
  }
 ],
 "metadata": {
  "kernelspec": {
   "display_name": "Python 3",
   "language": "python",
   "name": "python3"
  },
  "language_info": {
   "codemirror_mode": {
    "name": "ipython",
    "version": 3
   },
   "file_extension": ".py",
   "mimetype": "text/x-python",
   "name": "python",
   "nbconvert_exporter": "python",
   "pygments_lexer": "ipython3",
   "version": "3.6.5"
  }
 },
 "nbformat": 4,
 "nbformat_minor": 2
}
