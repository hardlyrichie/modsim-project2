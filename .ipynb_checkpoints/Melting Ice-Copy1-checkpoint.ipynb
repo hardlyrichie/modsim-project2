{
 "cells": [
  {
   "cell_type": "markdown",
   "metadata": {},
   "source": [
    "# Modeling and Simulation in Python\n",
    "\n",
    "Project 2\n",
    "\n",
    "Maalvika Bhat & Richard Gao"
   ]
  },
  {
   "cell_type": "code",
   "execution_count": 326,
   "metadata": {},
   "outputs": [],
   "source": [
    "# Configure Jupyter so figures appear in the notebook\n",
    "%matplotlib inline\n",
    "\n",
    "# Configure Jupyter to display the assigned value after an assignment\n",
    "%config InteractiveShell.ast_node_interactivity='last_expr_or_assign'\n",
    "\n",
    "# import functions from the modsim.py module\n",
    "from modsim import *"
   ]
  },
  {
   "cell_type": "code",
   "execution_count": 327,
   "metadata": {},
   "outputs": [],
   "source": [
    "# kilogram = UNITS.kilogram\n",
    "# kelvin = UNITS.kelvin\n",
    "# watt = UNITS.watt\n",
    "# joule = UNITS.joule\n",
    "# degC = UNITS.celsius"
   ]
  },
  {
   "cell_type": "code",
   "execution_count": 328,
   "metadata": {},
   "outputs": [],
   "source": [
    "# m_solid = .05 * kilogram\n",
    "# latent_heat_fusion = 3.3 * 10 ** 5 * joule / kilogram\n",
    "m_solid = .05 \n",
    "latent_heat_fusion = 3.3 * 10 ** 5\n",
    "q = m_solid * latent_heat_fusion;"
   ]
  },
  {
   "cell_type": "code",
   "execution_count": 329,
   "metadata": {},
   "outputs": [
    {
     "data": {
      "text/html": [
       "<div>\n",
       "<style scoped>\n",
       "    .dataframe tbody tr th:only-of-type {\n",
       "        vertical-align: middle;\n",
       "    }\n",
       "\n",
       "    .dataframe tbody tr th {\n",
       "        vertical-align: top;\n",
       "    }\n",
       "\n",
       "    .dataframe thead th {\n",
       "        text-align: right;\n",
       "    }\n",
       "</style>\n",
       "<table border=\"1\" class=\"dataframe\">\n",
       "  <thead>\n",
       "    <tr style=\"text-align: right;\">\n",
       "      <th></th>\n",
       "      <th>material</th>\n",
       "      <th>thermal_conductivity_factor</th>\n",
       "      <th>specific_heat_capacity</th>\n",
       "      <th>density</th>\n",
       "    </tr>\n",
       "  </thead>\n",
       "  <tbody>\n",
       "    <tr>\n",
       "      <th>0</th>\n",
       "      <td>aluminum</td>\n",
       "      <td>205</td>\n",
       "      <td>897</td>\n",
       "      <td>2700</td>\n",
       "    </tr>\n",
       "    <tr>\n",
       "      <th>1</th>\n",
       "      <td>nickel</td>\n",
       "      <td>91</td>\n",
       "      <td>461</td>\n",
       "      <td>8908</td>\n",
       "    </tr>\n",
       "  </tbody>\n",
       "</table>\n",
       "</div>"
      ],
      "text/plain": [
       "   material  thermal_conductivity_factor  specific_heat_capacity  density\n",
       "0  aluminum                          205                     897     2700\n",
       "1    nickel                           91                     461     8908"
      ]
     },
     "execution_count": 329,
     "metadata": {},
     "output_type": "execute_result"
    }
   ],
   "source": [
    "# material_info = {'material': ['aluminum', 'nickel', 'marble', 'wood'],\n",
    "#                  'thermal_conductivity_factor': [205, 91, 2.5, 0.16],\n",
    "#                  'specific_heat_capacity': [897, 461, 880, 2000],\n",
    "#                  'density': [2700, 8908, 2570, 240]}\n",
    "material_info = {'material': ['aluminum', 'nickel'],\n",
    "                 'thermal_conductivity_factor': [205, 91],\n",
    "                 'specific_heat_capacity': [897, 461],\n",
    "                 'density': [2700, 8908]}\n",
    "plate_materials = pd.DataFrame(material_info,\n",
    "                              columns=['material','thermal_conductivity_factor', 'specific_heat_capacity', 'density'])\n",
    "\n",
    "# plate_materials['material'].size"
   ]
  },
  {
   "cell_type": "code",
   "execution_count": 330,
   "metadata": {},
   "outputs": [],
   "source": [
    "def make_system(params):\n",
    "    \"\"\"Makes a System object with the given parameters.\n",
    "    returns: System object\n",
    "    \"\"\"\n",
    "#     thermal_conductivity_factor, specific_heat_capacity, surface_area, plate_temp, thickness = params\n",
    "    material, plate_materials, surface_area, plate_temp, thickness = params\n",
    "\n",
    "    init = State(thermal_energy_hand = q,\n",
    "                 thermal_energy_ice = 0,\n",
    "                 plate_temp=plate_temp)\n",
    "    \n",
    "    t0 = 0\n",
    "    dt = .1\n",
    "    \n",
    "    return System(locals())"
   ]
  },
  {
   "cell_type": "code",
   "execution_count": 331,
   "metadata": {},
   "outputs": [],
   "source": [
    "def update_func(state, dt, system):\n",
    "    unpack(system)\n",
    "    thermal_energy_hand, thermal_energy_ice, plate_temp = state\n",
    "    \n",
    "    index = -1\n",
    "    materials = plate_materials['material']\n",
    "    for i in range(0, materials.size):\n",
    "        if materials[i] == 'nickel':\n",
    "            index = i\n",
    "            break\n",
    "    if index < 0:\n",
    "        raise Exception('Material not found within plate_materials')\n",
    "    \n",
    "    thermal_conductivity_factor = plate_materials['thermal_conductivity_factor'][index]\n",
    "    specific_heat_capacity = plate_materials['specific_heat_capacity'][index]\n",
    "    density = plate_materials['density'][index]\n",
    "    \n",
    "    mass = (surface_area * thickness) * density\n",
    "    hand_temperature = 37\n",
    "    hand_to_plate = mass * specific_heat_capacity * (hand_temperature - plate_temp) * dt\n",
    "    \n",
    "    plate_to_ice = (thermal_conductivity_factor * surface_area * plate_temp / thickness) * dt\n",
    "    \n",
    "    deltaQ = hand_to_plate - plate_to_ice\n",
    "#     print(deltaQ)\n",
    "    \n",
    "    # We've abstracted the scenario to not take convection into account, therefore the plate_temp cannot drop to near zero or\n",
    "    # else the ice will never melt (there is no heat from the atmosphere only from the plate)\n",
    "    plate_temp += deltaQ / (specific_heat_capacity * mass) # 1 kg of plate\n",
    "    \n",
    "    thermal_energy_hand -= hand_to_plate\n",
    "    thermal_energy_ice += plate_to_ice\n",
    "    \n",
    "    return State(thermal_energy_hand=thermal_energy_hand, thermal_energy_ice=thermal_energy_ice, plate_temp=plate_temp)"
   ]
  },
  {
   "cell_type": "code",
   "execution_count": 332,
   "metadata": {},
   "outputs": [],
   "source": [
    "def run_simulation(system, update_func):\n",
    "    unpack(system)\n",
    "    \n",
    "    frame = TimeFrame(columns=init.index)\n",
    "    frame.row[t0] = init\n",
    "    \n",
    "    melted = False\n",
    "    t = 0\n",
    "    while not melted:\n",
    "        new_state = update_func(frame.row[t], dt, system)\n",
    "        if new_state.thermal_energy_ice >= q:\n",
    "            melted = True\n",
    "        else:\n",
    "            t = round(t + dt, 1)\n",
    "            frame.row[t] = new_state\n",
    "#             print(frame.row[t])\n",
    "        \n",
    "    return frame"
   ]
  },
  {
   "cell_type": "code",
   "execution_count": 333,
   "metadata": {},
   "outputs": [
    {
     "data": {
      "text/html": [
       "<div>\n",
       "<style scoped>\n",
       "    .dataframe tbody tr th:only-of-type {\n",
       "        vertical-align: middle;\n",
       "    }\n",
       "\n",
       "    .dataframe tbody tr th {\n",
       "        vertical-align: top;\n",
       "    }\n",
       "\n",
       "    .dataframe thead th {\n",
       "        text-align: right;\n",
       "    }\n",
       "</style>\n",
       "<table border=\"1\" class=\"dataframe\">\n",
       "  <thead>\n",
       "    <tr style=\"text-align: right;\">\n",
       "      <th></th>\n",
       "      <th>thermal_energy_hand</th>\n",
       "      <th>thermal_energy_ice</th>\n",
       "      <th>plate_temp</th>\n",
       "    </tr>\n",
       "  </thead>\n",
       "  <tbody>\n",
       "    <tr>\n",
       "      <th>0.0</th>\n",
       "      <td>16500.000000</td>\n",
       "      <td>0.000000</td>\n",
       "      <td>23.000000</td>\n",
       "    </tr>\n",
       "    <tr>\n",
       "      <th>0.1</th>\n",
       "      <td>13109.340000</td>\n",
       "      <td>1178.750000</td>\n",
       "      <td>23.913295</td>\n",
       "    </tr>\n",
       "    <tr>\n",
       "      <th>0.2</th>\n",
       "      <td>9939.871000</td>\n",
       "      <td>2404.306387</td>\n",
       "      <td>24.715935</td>\n",
       "    </tr>\n",
       "    <tr>\n",
       "      <th>0.3</th>\n",
       "      <td>6964.793261</td>\n",
       "      <td>3670.998048</td>\n",
       "      <td>25.421326</td>\n",
       "    </tr>\n",
       "    <tr>\n",
       "      <th>0.4</th>\n",
       "      <td>4160.554130</td>\n",
       "      <td>4973.840989</td>\n",
       "      <td>26.041251</td>\n",
       "    </tr>\n",
       "    <tr>\n",
       "      <th>0.5</th>\n",
       "      <td>1506.454618</td>\n",
       "      <td>6308.455084</td>\n",
       "      <td>26.586065</td>\n",
       "    </tr>\n",
       "    <tr>\n",
       "      <th>0.6</th>\n",
       "      <td>-1015.696352</td>\n",
       "      <td>7670.990904</td>\n",
       "      <td>27.064869</td>\n",
       "    </tr>\n",
       "    <tr>\n",
       "      <th>0.7</th>\n",
       "      <td>-3421.885807</td>\n",
       "      <td>9058.065423</td>\n",
       "      <td>27.485660</td>\n",
       "    </tr>\n",
       "    <tr>\n",
       "      <th>0.8</th>\n",
       "      <td>-5726.163769</td>\n",
       "      <td>10466.705507</td>\n",
       "      <td>27.855468</td>\n",
       "    </tr>\n",
       "    <tr>\n",
       "      <th>0.9</th>\n",
       "      <td>-7940.877942</td>\n",
       "      <td>11894.298249</td>\n",
       "      <td>28.180470</td>\n",
       "    </tr>\n",
       "    <tr>\n",
       "      <th>1.0</th>\n",
       "      <td>-10076.879973</td>\n",
       "      <td>13338.547324</td>\n",
       "      <td>28.466094</td>\n",
       "    </tr>\n",
       "    <tr>\n",
       "      <th>1.1</th>\n",
       "      <td>-12143.706708</td>\n",
       "      <td>14797.434633</td>\n",
       "      <td>28.717111</td>\n",
       "    </tr>\n",
       "    <tr>\n",
       "      <th>1.2</th>\n",
       "      <td>-14149.739501</td>\n",
       "      <td>16269.186591</td>\n",
       "      <td>28.937715</td>\n",
       "    </tr>\n",
       "  </tbody>\n",
       "</table>\n",
       "</div>"
      ],
      "text/plain": [
       "     thermal_energy_hand  thermal_energy_ice  plate_temp\n",
       "0.0         16500.000000            0.000000   23.000000\n",
       "0.1         13109.340000         1178.750000   23.913295\n",
       "0.2          9939.871000         2404.306387   24.715935\n",
       "0.3          6964.793261         3670.998048   25.421326\n",
       "0.4          4160.554130         4973.840989   26.041251\n",
       "0.5          1506.454618         6308.455084   26.586065\n",
       "0.6         -1015.696352         7670.990904   27.064869\n",
       "0.7         -3421.885807         9058.065423   27.485660\n",
       "0.8         -5726.163769        10466.705507   27.855468\n",
       "0.9         -7940.877942        11894.298249   28.180470\n",
       "1.0        -10076.879973        13338.547324   28.466094\n",
       "1.1        -12143.706708        14797.434633   28.717111\n",
       "1.2        -14149.739501        16269.186591   28.937715"
      ]
     },
     "execution_count": 333,
     "metadata": {},
     "output_type": "execute_result"
    }
   ],
   "source": [
    "params = Params(material='aluminum',\n",
    "                plate_materials=plate_materials,\n",
    "                surface_area=.05,\n",
    "                plate_temp=23,\n",
    "                thickness=.02)\n",
    "system = make_system(params)\n",
    "results = run_simulation(system, update_func)\n",
    "# results.tail()"
   ]
  },
  {
   "cell_type": "code",
   "execution_count": 316,
   "metadata": {},
   "outputs": [
    {
     "data": {
      "text/plain": [
       "<matplotlib.axes._subplots.AxesSubplot at 0x2314e2cf7b8>"
      ]
     },
     "execution_count": 316,
     "metadata": {},
     "output_type": "execute_result"
    },
    {
     "data": {
      "image/png": "[encoded data removed]",
      "text/plain": [
       "<Figure size 432x288 with 1 Axes>"
      ]
     },
     "metadata": {},
     "output_type": "display_data"
    }
   ],
   "source": [
    "results.thermal_energy_hand.plot()\n",
    "results.thermal_energy_ice.plot()"
   ]
  },
  {
   "cell_type": "code",
   "execution_count": 317,
   "metadata": {},
   "outputs": [],
   "source": [
    "def calc_melt_time(results):\n",
    "    return results.index[-1]"
   ]
  },
  {
   "cell_type": "code",
   "execution_count": 318,
   "metadata": {},
   "outputs": [],
   "source": [
    "def sweep_surface_area(params):\n",
    "    thermal_conductivity_factor, specific_heat_capacity, plate_temp, thickness, surface_area_array = params\n",
    "    sweep = SweepSeries()\n",
    "    for surface_area in surface_area_array:\n",
    "        system_params = Params(thermal_conductivity_factor=thermal_conductivity_factor,\n",
    "                specific_heat_capacity=specific_heat_capacity,\n",
    "                surface_area=surface_area,\n",
    "                plate_temp=plate_temp,\n",
    "                thickness=thickness)\n",
    "        system = make_system(system_params)\n",
    "        results = run_simulation(system, update_func)\n",
    "        sweep[system.surface_area]= calc_melt_time(results)\n",
    "    return sweep"
   ]
  },
  {
   "cell_type": "code",
   "execution_count": 319,
   "metadata": {},
   "outputs": [
    {
     "name": "stdout",
     "output_type": "stream",
     "text": [
      "0.01    5.4\n",
      "0.02    2.8\n",
      "0.03    1.9\n",
      "0.04    1.4\n",
      "0.05    1.2\n",
      "dtype: float64\n"
     ]
    },
    {
     "data": {
      "image/png": "[encoded data removed]",
      "text/plain": [
       "<Figure size 432x288 with 1 Axes>"
      ]
     },
     "metadata": {},
     "output_type": "display_data"
    }
   ],
   "source": [
    "surface_area_array = linspace(0.01, 1, 100)\n",
    "params = Params(material='aluminum',\n",
    "                plate_materials=plate_materials,\n",
    "                plate_temp=23,\n",
    "                thickness=.02,\n",
    "                surface_area_array=surface_area_array)\n",
    "sweep = sweep_surface_area(params)\n",
    "print(sweep.head())\n",
    "for surface_area in surface_area_array:\n",
    "    label = 'surface area = ' + str(surface_area)\n",
    "    plot(sweep, label=label)"
   ]
  },
  {
   "cell_type": "code",
   "execution_count": 320,
   "metadata": {},
   "outputs": [],
   "source": [
    "def sweep_thickness(params):\n",
    "    thermal_conductivity_factor, specific_heat_capacity, surface_area, plate_temp, thickness_array = params\n",
    "    sweep = SweepSeries()\n",
    "    for thickness in thickness_array:\n",
    "        system_params = Params(thermal_conductivity_factor=thermal_conductivity_factor,\n",
    "                specific_heat_capacity=specific_heat_capacity,\n",
    "                surface_area=surface_area,\n",
    "                plate_temp=plate_temp,\n",
    "                thickness=thickness)\n",
    "        system = make_system(system_params)\n",
    "        results = run_simulation(system, update_func)\n",
    "        sweep[system.thickness]= calc_melt_time(results)\n",
    "    return sweep"
   ]
  },
  {
   "cell_type": "code",
   "execution_count": 321,
   "metadata": {},
   "outputs": [
    {
     "name": "stdout",
     "output_type": "stream",
     "text": [
      "0.01     0.7\n",
      "0.12     5.6\n",
      "0.23    10.3\n",
      "0.34    15.1\n",
      "0.45    19.9\n",
      "dtype: float64\n"
     ]
    },
    {
     "data": {
      "image/png": "[encoded data removed]",
      "text/plain": [
       "<Figure size 432x288 with 1 Axes>"
      ]
     },
     "metadata": {},
     "output_type": "display_data"
    }
   ],
   "source": [
    "thickness_array = linspace(0.01, 1, 10)\n",
    "params = Params(material='aluminum',\n",
    "                plate_materials=plate_materials,\n",
    "                surface_area=.05,\n",
    "                plate_temp=23,\n",
    "                thickness_array=thickness_array)\n",
    "sweep = sweep_thickness(params)\n",
    "print(sweep.head())\n",
    "for thickness in thickness_array:\n",
    "    label = 'thickness = ' + str(thickness)\n",
    "    plot(sweep, label=label)"
   ]
  },
  {
   "cell_type": "code",
   "execution_count": 322,
   "metadata": {},
   "outputs": [],
   "source": [
    "def sweep_plate_temp(params):\n",
    "    thermal_conductivity_factor, specific_heat_capacity, surface_area, thickness, plate_temp_array = params\n",
    "    sweep = SweepSeries()\n",
    "    for plate_temp in plate_temp_array:\n",
    "        system_params = Params(thermal_conductivity_factor=thermal_conductivity_factor,\n",
    "                specific_heat_capacity=specific_heat_capacity,\n",
    "                surface_area=surface_area,\n",
    "                plate_temp=plate_temp,\n",
    "                thickness=thickness)\n",
    "        system = make_system(system_params)\n",
    "        results = run_simulation(system, update_func)\n",
    "        sweep[system.plate_temp]= calc_melt_time(results)\n",
    "    return sweep"
   ]
  },
  {
   "cell_type": "code",
   "execution_count": 323,
   "metadata": {},
   "outputs": [
    {
     "name": "stdout",
     "output_type": "stream",
     "text": [
      "20    1.2\n",
      "25    1.1\n",
      "30    1.0\n",
      "35    0.9\n",
      "40    0.8\n",
      "dtype: float64\n"
     ]
    },
    {
     "data": {
      "image/png": "[encoded data removed]",
      "text/plain": [
       "<Figure size 432x288 with 1 Axes>"
      ]
     },
     "metadata": {},
     "output_type": "display_data"
    }
   ],
   "source": [
    "plate_temp_array = linrange(20, 100, 5)\n",
    "params = Params(material='aluminum',\n",
    "                plate_materials=plate_materials,\n",
    "                surface_area=.05,\n",
    "                thickness=.02,\n",
    "                plate_temp_array=plate_temp_array)\n",
    "sweep = sweep_plate_temp(params)\n",
    "print(sweep.head())\n",
    "for plate_temp in plate_temp_array:\n",
    "    label = 'plate_temp = ' + str(plate_temp)\n",
    "    plot(sweep, label=label)"
   ]
  },
  {
   "cell_type": "code",
   "execution_count": 324,
   "metadata": {},
   "outputs": [],
   "source": [
    "def sweep_material(params):\n",
    "    plate_materials, surface_area, plate_temp, thickness = params\n",
    "    \n",
    "    thermal_conductivity_factors = plate_materials['thermal_conductivity_factor']\n",
    "    specific_heat_capacities = plate_materials['specific_heat_capacity']\n",
    "    \n",
    "    sweep = SweepSeries()\n",
    "    for i in range(0, plate_materials['material'].size):\n",
    "        print(thermal_conductivity_factors[i])\n",
    "        print(specific_heat_capacities[i])\n",
    "        system_params = Params(thermal_conductivity_factor=thermal_conductivity_factors[i],\n",
    "                specific_heat_capacity=specific_heat_capacities[i],\n",
    "                surface_area=surface_area,\n",
    "                plate_temp=plate_temp,\n",
    "                thickness=thickness)\n",
    "        system = make_system(system_params)\n",
    "        results = run_simulation(system, update_func)\n",
    "        sweep[plate_materials['material'][i]] = calc_melt_time(results)\n",
    "    return sweep"
   ]
  },
  {
   "cell_type": "code",
   "execution_count": 325,
   "metadata": {},
   "outputs": [
    {
     "name": "stdout",
     "output_type": "stream",
     "text": [
      "205\n",
      "897\n"
     ]
    },
    {
     "ename": "TypeError",
     "evalue": "'float' object is not subscriptable",
     "output_type": "error",
     "traceback": [
      "\u001b[1;31m---------------------------------------------------------------------------\u001b[0m",
      "\u001b[1;31mTypeError\u001b[0m                                 Traceback (most recent call last)",
      "\u001b[1;32m<ipython-input-325-21ad0d117037>\u001b[0m in \u001b[0;36m<module>\u001b[1;34m()\u001b[0m\n\u001b[0;32m      3\u001b[0m                 \u001b[0mplate_temp\u001b[0m\u001b[1;33m=\u001b[0m\u001b[1;36m23\u001b[0m\u001b[1;33m,\u001b[0m\u001b[1;33m\u001b[0m\u001b[0m\n\u001b[0;32m      4\u001b[0m                 thickness=.02)\n\u001b[1;32m----> 5\u001b[1;33m \u001b[0msweep\u001b[0m \u001b[1;33m=\u001b[0m \u001b[0msweep_material\u001b[0m\u001b[1;33m(\u001b[0m\u001b[0mparams\u001b[0m\u001b[1;33m)\u001b[0m\u001b[1;33m\u001b[0m\u001b[0m\n\u001b[0m\u001b[0;32m      6\u001b[0m \u001b[0mprint\u001b[0m\u001b[1;33m(\u001b[0m\u001b[0msweep\u001b[0m\u001b[1;33m)\u001b[0m\u001b[1;33m\u001b[0m\u001b[0m\n\u001b[0;32m      7\u001b[0m \u001b[1;31m# for i in plate_materials['material']:\u001b[0m\u001b[1;33m\u001b[0m\u001b[1;33m\u001b[0m\u001b[0m\n",
      "\u001b[1;32m<ipython-input-324-22cd9c0d0166>\u001b[0m in \u001b[0;36msweep_material\u001b[1;34m(params)\u001b[0m\n\u001b[0;32m     15\u001b[0m                 thickness=thickness)\n\u001b[0;32m     16\u001b[0m         \u001b[0msystem\u001b[0m \u001b[1;33m=\u001b[0m \u001b[0mmake_system\u001b[0m\u001b[1;33m(\u001b[0m\u001b[0msystem_params\u001b[0m\u001b[1;33m)\u001b[0m\u001b[1;33m\u001b[0m\u001b[0m\n\u001b[1;32m---> 17\u001b[1;33m         \u001b[0mresults\u001b[0m \u001b[1;33m=\u001b[0m \u001b[0mrun_simulation\u001b[0m\u001b[1;33m(\u001b[0m\u001b[0msystem\u001b[0m\u001b[1;33m,\u001b[0m \u001b[0mupdate_func\u001b[0m\u001b[1;33m)\u001b[0m\u001b[1;33m\u001b[0m\u001b[0m\n\u001b[0m\u001b[0;32m     18\u001b[0m         \u001b[0msweep\u001b[0m\u001b[1;33m[\u001b[0m\u001b[0mplate_materials\u001b[0m\u001b[1;33m[\u001b[0m\u001b[1;34m'material'\u001b[0m\u001b[1;33m]\u001b[0m\u001b[1;33m[\u001b[0m\u001b[0mi\u001b[0m\u001b[1;33m]\u001b[0m\u001b[1;33m]\u001b[0m \u001b[1;33m=\u001b[0m \u001b[0mcalc_melt_time\u001b[0m\u001b[1;33m(\u001b[0m\u001b[0mresults\u001b[0m\u001b[1;33m)\u001b[0m\u001b[1;33m\u001b[0m\u001b[0m\n\u001b[0;32m     19\u001b[0m     \u001b[1;32mreturn\u001b[0m \u001b[0msweep\u001b[0m\u001b[1;33m\u001b[0m\u001b[0m\n",
      "\u001b[1;32m<ipython-input-314-60d3b2751d2e>\u001b[0m in \u001b[0;36mrun_simulation\u001b[1;34m(system, update_func)\u001b[0m\n\u001b[0;32m      8\u001b[0m     \u001b[0mt\u001b[0m \u001b[1;33m=\u001b[0m \u001b[1;36m0\u001b[0m\u001b[1;33m\u001b[0m\u001b[0m\n\u001b[0;32m      9\u001b[0m     \u001b[1;32mwhile\u001b[0m \u001b[1;32mnot\u001b[0m \u001b[0mmelted\u001b[0m\u001b[1;33m:\u001b[0m\u001b[1;33m\u001b[0m\u001b[0m\n\u001b[1;32m---> 10\u001b[1;33m         \u001b[0mnew_state\u001b[0m \u001b[1;33m=\u001b[0m \u001b[0mupdate_func\u001b[0m\u001b[1;33m(\u001b[0m\u001b[0mframe\u001b[0m\u001b[1;33m.\u001b[0m\u001b[0mrow\u001b[0m\u001b[1;33m[\u001b[0m\u001b[0mt\u001b[0m\u001b[1;33m]\u001b[0m\u001b[1;33m,\u001b[0m \u001b[0mdt\u001b[0m\u001b[1;33m,\u001b[0m \u001b[0msystem\u001b[0m\u001b[1;33m)\u001b[0m\u001b[1;33m\u001b[0m\u001b[0m\n\u001b[0m\u001b[0;32m     11\u001b[0m         \u001b[1;32mif\u001b[0m \u001b[0mnew_state\u001b[0m\u001b[1;33m.\u001b[0m\u001b[0mthermal_energy_ice\u001b[0m \u001b[1;33m>=\u001b[0m \u001b[0mq\u001b[0m\u001b[1;33m:\u001b[0m\u001b[1;33m\u001b[0m\u001b[0m\n\u001b[0;32m     12\u001b[0m             \u001b[0mmelted\u001b[0m \u001b[1;33m=\u001b[0m \u001b[1;32mTrue\u001b[0m\u001b[1;33m\u001b[0m\u001b[0m\n",
      "\u001b[1;32m<ipython-input-313-d2023b45d73c>\u001b[0m in \u001b[0;36mupdate_func\u001b[1;34m(state, dt, system)\u001b[0m\n\u001b[0;32m      4\u001b[0m \u001b[1;33m\u001b[0m\u001b[0m\n\u001b[0;32m      5\u001b[0m     \u001b[0mindex\u001b[0m \u001b[1;33m=\u001b[0m \u001b[1;33m-\u001b[0m\u001b[1;36m1\u001b[0m\u001b[1;33m\u001b[0m\u001b[0m\n\u001b[1;32m----> 6\u001b[1;33m     \u001b[1;32mfor\u001b[0m \u001b[0mi\u001b[0m\u001b[1;33m,\u001b[0m \u001b[0mval\u001b[0m \u001b[1;32min\u001b[0m \u001b[0menumerate\u001b[0m\u001b[1;33m(\u001b[0m\u001b[0mplate_materials\u001b[0m\u001b[1;33m[\u001b[0m\u001b[1;34m'material'\u001b[0m\u001b[1;33m]\u001b[0m\u001b[1;33m)\u001b[0m\u001b[1;33m:\u001b[0m\u001b[1;33m\u001b[0m\u001b[0m\n\u001b[0m\u001b[0;32m      7\u001b[0m         \u001b[1;32mif\u001b[0m \u001b[0mval\u001b[0m \u001b[1;33m==\u001b[0m \u001b[0mmaterial\u001b[0m\u001b[1;33m:\u001b[0m\u001b[1;33m\u001b[0m\u001b[0m\n\u001b[0;32m      8\u001b[0m             \u001b[0mindex\u001b[0m \u001b[1;33m=\u001b[0m \u001b[0mi\u001b[0m\u001b[1;33m\u001b[0m\u001b[0m\n",
      "\u001b[1;31mTypeError\u001b[0m: 'float' object is not subscriptable"
     ]
    }
   ],
   "source": [
    "params = Params(plate_materials=plate_materials,\n",
    "                surface_area=.05,\n",
    "                plate_temp=23,\n",
    "                thickness=.02)\n",
    "sweep = sweep_material(params)\n",
    "print(sweep)\n",
    "# for i in plate_materials['material']:\n",
    "#     label = 'material = ' + i\n",
    "#     plot(sweep, 'o', label=label)"
   ]
  },
  {
   "cell_type": "code",
   "execution_count": null,
   "metadata": {},
   "outputs": [],
   "source": []
  },
  {
   "cell_type": "code",
   "execution_count": null,
   "metadata": {},
   "outputs": [],
   "source": []
  }
 ],
 "metadata": {
  "kernelspec": {
   "display_name": "Python 3",
   "language": "python",
   "name": "python3"
  },
  "language_info": {
   "codemirror_mode": {
    "name": "ipython",
    "version": 3
   },
   "file_extension": ".py",
   "mimetype": "text/x-python",
   "name": "python",
   "nbconvert_exporter": "python",
   "pygments_lexer": "ipython3",
   "version": "3.6.5"
  }
 },
 "nbformat": 4,
 "nbformat_minor": 2
}
